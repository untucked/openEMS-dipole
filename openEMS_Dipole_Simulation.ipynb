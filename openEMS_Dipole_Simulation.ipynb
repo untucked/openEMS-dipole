{
 "cells": [
  {
   "cell_type": "markdown",
   "metadata": {},
   "source": [
    "# Dipole Antenna Simulation with openEMS\n",
    "\n",
    "This notebook demonstrates a half-wave dipole simulation using openEMS.\n",
    "Features included:\n",
    "- S11 sweep across a frequency band\n",
    "- Far-field radiation pattern (polar and 3D)\n",
    "- Optional ground plane for realism\n",
    "- Export of field data to ParaView"
   ]
  },
  {
   "cell_type": "code",
   "execution_count": 1,
   "metadata": {},
   "outputs": [
    {
     "ename": "ModuleNotFoundError",
     "evalue": "No module named 'openems'",
     "output_type": "error",
     "traceback": [
      "\u001b[1;31m---------------------------------------------------------------------------\u001b[0m",
      "\u001b[1;31mModuleNotFoundError\u001b[0m                       Traceback (most recent call last)",
      "Cell \u001b[1;32mIn[1], line 6\u001b[0m\n\u001b[0;32m      3\u001b[0m \u001b[38;5;28;01mimport\u001b[39;00m \u001b[38;5;21;01mmatplotlib\u001b[39;00m\u001b[38;5;21;01m.\u001b[39;00m\u001b[38;5;21;01mpyplot\u001b[39;00m \u001b[38;5;28;01mas\u001b[39;00m \u001b[38;5;21;01mplt\u001b[39;00m\n\u001b[0;32m      4\u001b[0m \u001b[38;5;28;01mfrom\u001b[39;00m \u001b[38;5;21;01mmpl_toolkits\u001b[39;00m\u001b[38;5;21;01m.\u001b[39;00m\u001b[38;5;21;01mmplot3d\u001b[39;00m \u001b[38;5;28;01mimport\u001b[39;00m Axes3D\n\u001b[1;32m----> 6\u001b[0m \u001b[38;5;28;01mfrom\u001b[39;00m \u001b[38;5;21;01mopenems\u001b[39;00m \u001b[38;5;28;01mimport\u001b[39;00m openEMS\n\u001b[0;32m      7\u001b[0m \u001b[38;5;28;01mfrom\u001b[39;00m \u001b[38;5;21;01mopenems\u001b[39;00m\u001b[38;5;21;01m.\u001b[39;00m\u001b[38;5;21;01mgeometry\u001b[39;00m \u001b[38;5;28;01mimport\u001b[39;00m CSX, RectWire, Box\n\u001b[0;32m      8\u001b[0m \u001b[38;5;28;01mfrom\u001b[39;00m \u001b[38;5;21;01mopenems\u001b[39;00m\u001b[38;5;21;01m.\u001b[39;00m\u001b[38;5;21;01mexcitation\u001b[39;00m \u001b[38;5;28;01mimport\u001b[39;00m GaussianExcitation\n",
      "\u001b[1;31mModuleNotFoundError\u001b[0m: No module named 'openems'"
     ]
    }
   ],
   "source": [
    "import numpy as np\n",
    "import os\n",
    "import matplotlib.pyplot as plt\n",
    "from mpl_toolkits.mplot3d import Axes3D\n",
    "\n",
    "from openems import openEMS\n",
    "from openems.geometry import CSX, RectWire, Box\n",
    "from openems.excitation import GaussianExcitation\n",
    "from openems.postprocess import CalcS11, PlotS11, CalcFarField, PlotFarField\n",
    "\n",
    "# --- Simulation Parameters ---\n",
    "f0 = 3e9                      # Center frequency: 3 GHz\n",
    "c = 3e8                       # Speed of light\n",
    "lambda0 = c / f0              # Wavelength\n",
    "dipole_length = lambda0 / 2   # Half-wave dipole\n",
    "dipole_radius = 0.001         # Dipole radius\n",
    "unit = 1e-3                   # Unit in meters\n",
    "sim_path = \"./dipole_sim\"\n",
    "if not os.path.exists(sim_path):\n",
    "    os.makedirs(sim_path)"
   ]
  },
  {
   "cell_type": "code",
   "execution_count": null,
   "id": "f923bf9d",
   "metadata": {},
   "outputs": [],
   "source": [
    "csx = CSX()\n",
    "\n",
    "# Add dipole arms\n",
    "csx.Add(RectWire('copper', dipole_radius, [0, 0, 0], [0, 0, dipole_length/2]))\n",
    "csx.Add(RectWire('copper', dipole_radius, [0, 0, 0], [0, 0, -dipole_length/2]))\n",
    "\n",
    "# Optional: Add ground plane (uncomment to enable realism)\n",
    "csx.Add(Box('PEC', start=[-0.1, -0.1, -lambda0], stop=[0.1, 0.1, -lambda0 + 0.001]))\n",
    "\n",
    "# Excitation setup\n",
    "GaussianExcitation(csx, port_number=1, start=[0, 0, -dipole_length/2], stop=[0, 0, dipole_length/2], f0=f0)"
   ]
  },
  {
   "cell_type": "code",
   "execution_count": null,
   "metadata": {},
   "outputs": [],
   "source": [
    "# --- Simulation Setup ---\n",
    "sim = openEMS()\n",
    "sim.SetFDTD(time_step=1e-12, end_time=100e-9)\n",
    "sim.SetCSX(csx)\n",
    "sim.SetMesh([[-100, 100], [-100, 100], [-100, 100]], unit=unit)\n",
    "sim.AddExcitation(1)\n",
    "sim.Run(path=sim_path, name=\"dipole\")"
   ]
  },
  {
   "cell_type": "code",
   "execution_count": null,
   "metadata": {},
   "outputs": [],
   "source": [
    "# --- S11 Frequency Sweep ---\n",
    "s11 = CalcS11(f\"{sim_path}/dipole\")\n",
    "frequencies = s11[:, 0] / 1e9\n",
    "s11_vals = 20 * np.log10(np.abs(s11[:, 1]))\n",
    "\n",
    "plt.figure()\n",
    "plt.plot(frequencies, s11_vals)\n",
    "plt.title(\"S11 (Return Loss)\")\n",
    "plt.xlabel(\"Frequency (GHz)\")\n",
    "plt.ylabel(\"S11 (dB)\")\n",
    "plt.grid(True)\n",
    "plt.show()"
   ]
  },
  {
   "cell_type": "code",
   "execution_count": null,
   "metadata": {},
   "outputs": [],
   "source": [
    "# --- Far-field Calculation ---\n",
    "theta_range = np.linspace(0, 180, 361)\n",
    "phi = 0\n",
    "far_field = CalcFarField(f\"{sim_path}/dipole\", f0, theta_range, phi)\n",
    "\n",
    "# Plot 2D Far-field\n",
    "PlotFarField(far_field, theta_range, quantity=\"Etheta\", unit=\"dB\", title=\"2D Far-field Pattern\")"
   ]
  },
  {
   "cell_type": "code",
   "execution_count": null,
   "metadata": {},
   "outputs": [],
   "source": [
    "# --- 3D Radiation Pattern ---\n",
    "fig = plt.figure()\n",
    "ax = fig.add_subplot(111, projection='3d')\n",
    "theta_rad = np.radians(theta_range)\n",
    "r = np.abs(far_field[\"Etheta\"])\n",
    "\n",
    "x = r * np.sin(theta_rad) * np.cos(phi)\n",
    "y = r * np.sin(theta_rad) * np.sin(phi)\n",
    "z = r * np.cos(theta_rad)\n",
    "\n",
    "ax.plot_surface(x.reshape(1, -1), y.reshape(1, -1), z.reshape(1, -1), color='blue', alpha=0.6)\n",
    "ax.set_title(\"3D Dipole Radiation Pattern\")\n",
    "plt.show()"
   ]
  },
  {
   "cell_type": "code",
   "execution_count": null,
   "metadata": {},
   "outputs": [],
   "source": [
    "# --- Export Fields for ParaView (VTK Format) ---\n",
    "sim.ExportVTK(f\"{sim_path}/fields\")\n",
    "print(\"Field data exported to VTK format for ParaView visualization.\")"
   ]
  }
 ],
 "metadata": {
  "kernelspec": {
   "display_name": "Python 3",
   "language": "python",
   "name": "python3"
  },
  "language_info": {
   "codemirror_mode": {
    "name": "ipython",
    "version": 3
   },
   "file_extension": ".py",
   "mimetype": "text/x-python",
   "name": "python",
   "nbconvert_exporter": "python",
   "pygments_lexer": "ipython3",
   "version": "3.12.0"
  }
 },
 "nbformat": 4,
 "nbformat_minor": 5
}
